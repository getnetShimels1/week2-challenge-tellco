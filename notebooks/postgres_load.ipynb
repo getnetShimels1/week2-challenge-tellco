{
 "cells": [
  {
   "cell_type": "code",
   "execution_count": 3,
   "metadata": {},
   "outputs": [],
   "source": [
    "from dotenv import load_dotenv\n",
    "import os\n",
    "import pandas as pd\n",
    "import matplotlib.pyplot as plt\n",
    "import seaborn as sns"
   ]
  },
  {
   "cell_type": "code",
   "execution_count": 6,
   "metadata": {},
   "outputs": [],
   "source": [
    "import sys\n",
    "import os\n",
    "\n",
    "# Add the '../scripts' directory to the module search path\n",
    "sys.path.append(os.path.abspath('../scripts'))\n"
   ]
  },
  {
   "cell_type": "code",
   "execution_count": 11,
   "metadata": {},
   "outputs": [
    {
     "ename": "ImportError",
     "evalue": "cannot import name 'load_data_from_postgres' from 'load_data' (c:\\Users\\ufanc\\OneDrive\\Desktop\\10Academy\\week 2\\Technical Content\\week2-challenge-tellco\\scripts\\load_data.py)",
     "output_type": "error",
     "traceback": [
      "\u001b[1;31m---------------------------------------------------------------------------\u001b[0m",
      "\u001b[1;31mImportError\u001b[0m                               Traceback (most recent call last)",
      "Cell \u001b[1;32mIn[11], line 1\u001b[0m\n\u001b[1;32m----> 1\u001b[0m \u001b[38;5;28;01mfrom\u001b[39;00m \u001b[38;5;21;01mload_data\u001b[39;00m \u001b[38;5;28;01mimport\u001b[39;00m load_data_from_postgres\n\u001b[0;32m      2\u001b[0m \u001b[38;5;28;01mfrom\u001b[39;00m \u001b[38;5;21;01msql_queries\u001b[39;00m \u001b[38;5;28;01mimport\u001b[39;00m excute_telecom_queries\n",
      "\u001b[1;31mImportError\u001b[0m: cannot import name 'load_data_from_postgres' from 'load_data' (c:\\Users\\ufanc\\OneDrive\\Desktop\\10Academy\\week 2\\Technical Content\\week2-challenge-tellco\\scripts\\load_data.py)"
     ]
    }
   ],
   "source": [
    "from load_data import load_data_from_postgres\n",
    "from sql_queries import excute_telecom_queries\n"
   ]
  }
 ],
 "metadata": {
  "kernelspec": {
   "display_name": "venv",
   "language": "python",
   "name": "python3"
  },
  "language_info": {
   "codemirror_mode": {
    "name": "ipython",
    "version": 3
   },
   "file_extension": ".py",
   "mimetype": "text/x-python",
   "name": "python",
   "nbconvert_exporter": "python",
   "pygments_lexer": "ipython3",
   "version": "3.13.1"
  }
 },
 "nbformat": 4,
 "nbformat_minor": 2
}
